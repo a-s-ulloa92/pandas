{
 "cells": [
  {
   "cell_type": "markdown",
   "metadata": {},
   "source": [
    "# Una Introducción a Pandas"
   ]
  },
  {
   "cell_type": "markdown",
   "metadata": {},
   "source": [
    "Esta libreta es una modificación (sin muchos cambios) de la introducción a Pandas realizada por Julians Evans y que se encuentra dentro de la (documentación oficial de Pandas)[https://github.com/jvns/pandas-cookbook], Unas cosas se redujeron, y otras se dejaron en forma de ejercicios para practicar diferentes cosas."
   ]
  },
  {
   "cell_type": "code",
   "execution_count": null,
   "metadata": {
    "collapsed": false
   },
   "outputs": [],
   "source": [
    "# Figuras en linea\n",
    "import matplotlib\n",
    "%matplotlib inline\n",
    "\n",
    "import numpy as np\n",
    "import pandas as pd\n",
    "import matplotlib.pyplot as plt\n",
    "plt.rcParams['figure.figsize'] = (15, 5)      # Tamaño de las gráficas\n",
    "\n",
    "matplotlib.style.use('ggplot')\n",
    "\n"
   ]
  },
  {
   "cell_type": "markdown",
   "metadata": {},
   "source": [
    "# 1. Un ejemplo con bicicletas"
   ]
  },
  {
   "cell_type": "markdown",
   "metadata": {},
   "source": [
    "## 1.1 Leyendo datos de un archivo csv"
   ]
  },
  {
   "cell_type": "markdown",
   "metadata": {},
   "source": [
    "Para leer archivos CSV, se utiliza la función `read_csv`. Por default se asume la coma como el indicador de separación. Vamos a ver un conjunto de datos sobre [ciclistas en la ciudad de Montreal](http://donnees.ville.montreal.qc.ca/dataset/velos-comptage). Los cuales se encuentran ya descargados. Esta base de datos describe la cantidad de ciclistas que transitaron por 7 diferentes rutas por día."
   ]
  },
  {
   "cell_type": "code",
   "execution_count": null,
   "metadata": {
    "collapsed": false
   },
   "outputs": [],
   "source": [
    "broken_df = pd.read_csv('bikes.csv')"
   ]
  },
  {
   "cell_type": "code",
   "execution_count": null,
   "metadata": {
    "collapsed": false
   },
   "outputs": [],
   "source": [
    "# Vamos a ver las 3 primeras entradas\n",
    "broken_df[:3]"
   ]
  },
  {
   "cell_type": "markdown",
   "metadata": {},
   "source": [
    "Ups! Así, los datos no son útiles. Afortunadamente, `read_csv` viene con un montón de opciones para ajustarse a los diferentes archivos CSV. En particular es necesario:\n",
    "\n",
    "* cambiar el indicador de columna por  `;`\n",
    "* Cambiar la codificación por `'latin1'` (por default es `'utf8'`)\n",
    "* Transformar los datos de la columna `Date` a algun tipo estandar `datetime`  \n",
    "* Avisar que el estilo de los datos es francés (como en español) esto es día/mes/año\n",
    "* Hacer que el índice sea la columna `Date`"
   ]
  },
  {
   "cell_type": "code",
   "execution_count": null,
   "metadata": {
    "collapsed": false
   },
   "outputs": [],
   "source": [
    "fixed_df = pd.read_csv('bikes.csv', sep=';', encoding='latin1', parse_dates=['Date'], dayfirst=True, index_col='Date')\n",
    "fixed_df[:3]"
   ]
  },
  {
   "cell_type": "code",
   "execution_count": null,
   "metadata": {
    "collapsed": false,
    "scrolled": false
   },
   "outputs": [],
   "source": [
    "fixed_df.describe()"
   ]
  },
  {
   "cell_type": "markdown",
   "metadata": {},
   "source": [
    "## 1.2 Seleccionar columnas"
   ]
  },
  {
   "cell_type": "code",
   "execution_count": null,
   "metadata": {
    "collapsed": false
   },
   "outputs": [],
   "source": [
    "fixed_df['Berri 1']"
   ]
  },
  {
   "cell_type": "markdown",
   "metadata": {},
   "source": [
    "## 1.3 Graficar datos"
   ]
  },
  {
   "cell_type": "code",
   "execution_count": null,
   "metadata": {
    "collapsed": false
   },
   "outputs": [],
   "source": [
    "fixed_df['Berri 1'].plot()"
   ]
  },
  {
   "cell_type": "markdown",
   "metadata": {},
   "source": [
    "Igualmente se pueden graficar todos los días al mismo tiempo. Para ver mejor habrá que hacer un poco más grande la figura. Si bien es poco lo que se puede sacar de conclusión en este gráfico, se puede observar que el comportamiento de todos los caminos son más o menos parecidos. Igualmente, por las estacones, podríamos asociar de alguna manera el comportaiento de los ciclistas con el clima."
   ]
  },
  {
   "cell_type": "code",
   "execution_count": null,
   "metadata": {
    "collapsed": false
   },
   "outputs": [],
   "source": [
    "fixed_df.plot(figsize=(15, 10))"
   ]
  },
  {
   "cell_type": "markdown",
   "metadata": {},
   "source": [
    "### Ejercicio1 (20 puntos): Grafica 3 rutas únicamente desde la entrada 130 a la 160 (los días del verano)"
   ]
  },
  {
   "cell_type": "code",
   "execution_count": null,
   "metadata": {
    "collapsed": true
   },
   "outputs": [],
   "source": [
    "# Escribe aquí tu código"
   ]
  },
  {
   "cell_type": "markdown",
   "metadata": {},
   "source": [
    "## 1.4 Extraer una columna y transformar el índice (fecha)"
   ]
  },
  {
   "cell_type": "markdown",
   "metadata": {},
   "source": [
    "Supongamos ahora que tenemos la siguiente pregunta ¿Que día de la semana la gente circula más por el trayecto *Berri 1* (una ciclovía al lado de una calle principal de Montreal). Bueno, lo que tendríamos que hacer es extraer la columna que nos interesa como un nuevo *DataFrame* y luego agregarle una nueva variable como es el día de la semana.\n",
    "\n",
    "Primero copiemos físicamente la coluna que nos interesa"
   ]
  },
  {
   "cell_type": "code",
   "execution_count": null,
   "metadata": {
    "collapsed": false
   },
   "outputs": [],
   "source": [
    "berri_bikes = fixed_df[['Berri 1']].copy()\n",
    "berri_bikes.head()"
   ]
  },
  {
   "cell_type": "markdown",
   "metadata": {},
   "source": [
    "Ahora tenemos que malipular las fechas, las cuales se encuentran en el índice del *DataFrame*"
   ]
  },
  {
   "cell_type": "code",
   "execution_count": null,
   "metadata": {
    "collapsed": false
   },
   "outputs": [],
   "source": [
    "berri_bikes.index"
   ]
  },
  {
   "cell_type": "markdown",
   "metadata": {},
   "source": [
    "Curioso que lo que se registró solo llego hasta el 5 de noviembre del 2012 ¿Verdad? Ahora podemos usar las facilidades que nos dá Pandas para manipular fechas. Por ejemplo, si queremos el día del mes:"
   ]
  },
  {
   "cell_type": "code",
   "execution_count": null,
   "metadata": {
    "collapsed": false
   },
   "outputs": [],
   "source": [
    "berri_bikes.index.day"
   ]
  },
  {
   "cell_type": "markdown",
   "metadata": {},
   "source": [
    "y si queremos el día de la semana:"
   ]
  },
  {
   "cell_type": "code",
   "execution_count": null,
   "metadata": {
    "collapsed": false
   },
   "outputs": [],
   "source": [
    "berri_bikes.index.weekday"
   ]
  },
  {
   "cell_type": "markdown",
   "metadata": {},
   "source": [
    "Ahora agregamos una nueva variable a nuestro *DataFrame* de manera bastante intuitiva"
   ]
  },
  {
   "cell_type": "code",
   "execution_count": null,
   "metadata": {
    "collapsed": false
   },
   "outputs": [],
   "source": [
    "berri_bikes.loc[:, u'Día de la semana'] = berri_bikes.index.weekday\n",
    "berri_bikes.head()"
   ]
  },
  {
   "cell_type": "markdown",
   "metadata": {},
   "source": [
    "## 1.5 Agregación de información"
   ]
  },
  {
   "cell_type": "markdown",
   "metadata": {},
   "source": [
    "Ahora nos falta agregar la información, y para eso vamos a utilizar el método `.groupby` de la clase *DataFrame*, el cual es muy parecido al que se usa en SQL. Veamos como se utiliza en forma básica, pero revisa la [documentación](http://pandas.pydata.org/pandas-docs/stable/groupby.html), ya que es una herramienta muy poderosa para el análisis y tratamiento de los datos."
   ]
  },
  {
   "cell_type": "code",
   "execution_count": null,
   "metadata": {
    "collapsed": false
   },
   "outputs": [],
   "source": [
    "paseos_por_dia = berri_bikes.groupby(u'Día de la semana').aggregate(sum)\n",
    "paseos_por_dia"
   ]
  },
  {
   "cell_type": "markdown",
   "metadata": {},
   "source": [
    "¿Días de la semana de 0 a 6? Eso no tiene mucho sentido si queremos seguir usando esta información para análisis posteriores. Es una buena práctica procurar que todas las columnas tengan nombres significativos, y que los valores se codifiquen de una manera que sean claros."
   ]
  },
  {
   "cell_type": "code",
   "execution_count": null,
   "metadata": {
    "collapsed": false
   },
   "outputs": [],
   "source": [
    "paseos_por_dia.index = ['Lunes', 'Martes', u'Miércoles', 'Jueves', 'Viernes', u'Sábado', 'Domingo']\n",
    "paseos_por_dia"
   ]
  },
  {
   "cell_type": "markdown",
   "metadata": {},
   "source": [
    "¡Mejor! Y mucho mejor si lo visualizamos como una gráfica:"
   ]
  },
  {
   "cell_type": "code",
   "execution_count": null,
   "metadata": {
    "collapsed": false
   },
   "outputs": [],
   "source": [
    "paseos_por_dia.plot(kind='bar')"
   ]
  },
  {
   "cell_type": "markdown",
   "metadata": {},
   "source": [
    "Alguien podría argumentar que las cuentas totales no es la mejor manera que representar lo que pasa en cada día, porque la variabilidad podría ser factor importante. Como la observación nos parece válida, hagámos el análisis de otra manera."
   ]
  },
  {
   "cell_type": "code",
   "execution_count": null,
   "metadata": {
    "collapsed": false
   },
   "outputs": [],
   "source": [
    "berri_bikes.replace({u'Día de la semana': {0:'Lunes', 1:'Martes', 2:u'Miércoles', 3:'Jueves', \n",
    "                                           4:'Viernes', 5:u'Sábado', 6:'Domingo'}}, inplace=True)\n",
    "\n",
    "berri_bikes.boxplot(column=u'Berri 1', by=u'Día de la semana', \n",
    "                    positions= [7, 4, 1, 2, 3, 6, 5])         # Las posiciones es para mantener el orden alfabético\n",
    "\n"
   ]
  },
  {
   "cell_type": "markdown",
   "metadata": {},
   "source": [
    "Estas gráficas se conocen como *Box Plots* y son muy útiles para visualizar la distribución de datos. La línea roja representa la mediana (o quantil 50) la cajita es el rango en que se encuentran el 90% de los valores, y las líneas representan los valores mínimos y máximos."
   ]
  },
  {
   "cell_type": "markdown",
   "metadata": {},
   "source": [
    "### Ejercicio2 (20 puntos): Responde a la pregunta ¿Que tanto sale la gente a andar en bicicleta por Montreal por més del año en el 2012?"
   ]
  },
  {
   "cell_type": "code",
   "execution_count": null,
   "metadata": {
    "collapsed": true
   },
   "outputs": [],
   "source": [
    "# Agrega todo tu código aqui, no es necesario hacerlo por partes"
   ]
  },
  {
   "cell_type": "markdown",
   "metadata": {},
   "source": [
    "# 2. Ahora un ejercicio con el clima en Montreal"
   ]
  },
  {
   "cell_type": "markdown",
   "metadata": {},
   "source": [
    "## 2.1 Obteniendo datos de la red"
   ]
  },
  {
   "cell_type": "markdown",
   "metadata": {},
   "source": [
    "Ahora vamos a revisar el clima en el mismo año del 2012 en Montreal. Así que vamos a accesar al sitio que guarda la\n",
    "[información histórica del clima en Canada](http://climate.weather.gc.ca/index_e.html#access), y vamos a obtener la información del mes de marzo del 2012 (revisa el sitio si quieres ver como se determinó el *request*."
   ]
  },
  {
   "cell_type": "code",
   "execution_count": null,
   "metadata": {
    "collapsed": false
   },
   "outputs": [],
   "source": [
    "# Para obtener strings con formato, donde va un valor a ser sustituido se pone entre llaves\n",
    "# como en url_template para {year} y para {month}\n",
    "\n",
    "url_template = \"http://climate.weather.gc.ca/climateData/bulkdata_e.html?format=csv&stationID=5415&Year={year}&Month={month}&timeframe=1&submit=Download+Data\"\n",
    "url = url_template.format(month=3, year=2012)\n",
    "\n",
    "clima_mar2012 = pd.read_csv(url, skiprows=15, index_col='Date/Time', \n",
    "                              parse_dates=True, encoding='latin1')\n",
    "\n",
    "clima_mar2012.head(10)"
   ]
  },
  {
   "cell_type": "markdown",
   "metadata": {},
   "source": [
    "Muy interesante que para descargar datos de internet se utilice exactamente la misma función que para abrir un archivo local. Otra cosa importante es que sabíamos bastantes cosas del conjunto de datos, como que los primeros 15 renglones del archivo serín metadatos que no nos interesan, que esta codificado en `latin1`, y que l primer columna es de tipo `DateTime` con un formato estandar.\n",
    "\n",
    "Ahora queda modificar el nombre de las variables para que tengan sentido para nosotros: "
   ]
  },
  {
   "cell_type": "code",
   "execution_count": null,
   "metadata": {
    "collapsed": false
   },
   "outputs": [],
   "source": [
    "clima_mar2012.columns = [\n",
    "    u'Año', u'Mes', u'Dia', u'Hora', u'Calidad del dato', u'Temp (C)', \n",
    "    u'Temp Flag', u'Temp. de punto de rocío (C)', u'Temp. de punto de rocío Flag', \n",
    "    u'Humedad relativa (%)', u'Humedad relativa Flag', u'Dirección viento (10s deg)', u'Dirección viento Flag', \n",
    "    u'Velocidad viento (km/h)', u'Velocidad viento Flag', u'Visibilidad (km)', u'Visibilidad Flag',\n",
    "    u'Presión ambiental (kPa)', u'Presión ambiental Flag', u'Hmdx', u'Hmdx Flag', u'Factor de viento', \n",
    "    u'Factor de viento Flag', u'Clima']\n",
    "\n",
    "clima_mar2012.describe()"
   ]
  },
  {
   "cell_type": "markdown",
   "metadata": {},
   "source": [
    "## 2.2 Reducción de los datos"
   ]
  },
  {
   "cell_type": "markdown",
   "metadata": {},
   "source": [
    "Como podemos ver, varias de las columnas tienen puros valores tipo `NaN`, que en Pandas significa que el valor es faltante. Por el momento estas columnas vamos a eliminarlas de un tajo utilizando la función `dropna`.\n",
    "\n",
    "Igualmente, si el índice ya incluye fecha y hora, las columnas extras que representan Año, mes, día y hora pues son redundantes y también los vamos a eliminar, utilizando la función `drop`. Igualmente para la columna de calidad del dato que no parece tener información relevante. En ambos casos usamos la opción `axix=1` lo que significa que solamente queremos eliminar columnas."
   ]
  },
  {
   "cell_type": "code",
   "execution_count": null,
   "metadata": {
    "collapsed": false
   },
   "outputs": [],
   "source": [
    "clima_mar2012 = clima_mar2012.dropna(axis=1, how='any')\n",
    "clima_mar2012 = clima_mar2012.drop([u'Año', u'Mes', u'Dia', u'Hora', u'Calidad del dato'], axis=1)\n",
    "clima_mar2012.head(10)"
   ]
  },
  {
   "cell_type": "markdown",
   "metadata": {},
   "source": [
    "y ahora solo para ver que es lo que pasa, vamos a revisar la temperatura promedio por hora del día durante todo el més de marzo de 2012."
   ]
  },
  {
   "cell_type": "code",
   "execution_count": null,
   "metadata": {
    "collapsed": false
   },
   "outputs": [],
   "source": [
    "temperatura = clima_mar2012[[u'Temp (C)']].copy()\n",
    "temperatura.loc[:, u'Hora'] = clima_mar2012.index.hour\n",
    "temperatura.groupby(u'Hora').aggregate(np.mean).plot()"
   ]
  },
  {
   "cell_type": "markdown",
   "metadata": {},
   "source": [
    "## 2.3 Obteniendo y combinando archivos históricos"
   ]
  },
  {
   "cell_type": "markdown",
   "metadata": {},
   "source": [
    "Ahora el objetivo es descargar los datos del clima a lo largo de todo el 2012. Para esto vamos a hacer una función en python que nos permita automatizar la tarea. \n"
   ]
  },
  {
   "cell_type": "code",
   "execution_count": null,
   "metadata": {
    "collapsed": true
   },
   "outputs": [],
   "source": [
    "def descarga_mensual(year, month):\n",
    "    if month == 1:\n",
    "        year += 1\n",
    "    url = url_template.format(year=year, month=month)\n",
    "    df = pd.read_csv(url, skiprows=15, index_col='Date/Time', parse_dates=True)\n",
    "    df = df.dropna(axis=1)\n",
    "    df = df.drop(['Year', 'Day', 'Month', 'Time', 'Data Quality'], axis=1)\n",
    "    return df"
   ]
  },
  {
   "cell_type": "markdown",
   "metadata": {},
   "source": [
    "La función tiene un detallito, que es que cuando se pide el mes de enero, hay que pedirlo de un año adelante porque si no, pues nos regresa la información del mes pasado. Esto es un error del sistema canadiense de datos históricos de clima.\n",
    "\n",
    "Con esto, podemos recoger todos los meses en una lista de `DataFrames` y luego concatenarlas en el sentido de los renglones:"
   ]
  },
  {
   "cell_type": "code",
   "execution_count": null,
   "metadata": {
    "collapsed": false
   },
   "outputs": [],
   "source": [
    "lista_meses = [descarga_mensual(2012, mes) for mes in range(1, 13)]\n",
    "clima2012 = pd.concat(lista_meses)\n",
    "clima2012.columns = [u'Temp (C)', u'Temp. de punto de rocío (C)',  u'Humedad relativa (%)', \n",
    "                     u'Velocidad viento (km/h)',  u'Visibilidad (km)', u'Factor de viento', u'Clima']\n",
    "\n",
    "clima2012.describe()"
   ]
  },
  {
   "cell_type": "markdown",
   "metadata": {},
   "source": [
    "Tenemos 8784 entradas, que para no volver a tener que leer de internet vamos a guardar en nuestro propio archivo CSV."
   ]
  },
  {
   "cell_type": "code",
   "execution_count": null,
   "metadata": {
    "collapsed": false
   },
   "outputs": [],
   "source": [
    "clima2012.to_csv('../data/clima2012.csv', encoding='latin1')"
   ]
  },
  {
   "cell_type": "markdown",
   "metadata": {},
   "source": [
    "## 2.4 Operaciones con cadenas de caracteres"
   ]
  },
  {
   "cell_type": "markdown",
   "metadata": {},
   "source": [
    "Vamos ahora a graficar la temperatura promedio mensual, utilizando el método `resample`:"
   ]
  },
  {
   "cell_type": "code",
   "execution_count": null,
   "metadata": {
    "collapsed": false
   },
   "outputs": [],
   "source": [
    "clima2012['Temp (C)'].resample('M', how=np.mean).plot(kind='bar')"
   ]
  },
  {
   "cell_type": "markdown",
   "metadata": {},
   "source": [
    "Y ahora quisieramos poder visualizar si la temperatura tiene un comportamiento parecido al número de veces que nevó en un mes (claro, en este caso es algo bastante obvio, ya que es un ejemplo ilustrativo).\n",
    "\n",
    "Para esto, vamos a utilizar la columna Clima de nuestro `DataFrame`, en la cual, en cada momento, hay información en forma de cadenas de caracteres con las situaciones que se presentaron (niebla, lluvia, nieve, ...). Para esto utilizaremos el método `str.contains`, el cual devuelve `True` en caso que la cadena de caracteres se encuentre el el `DataFrame`. Sin embargo, si queremos saber el número de veces que nevó en un mes, es necesario convertir esa variable booleana en una variable numerica (flotante). Para eso utilizaremos el comando `astype`. Vamos a ponerlo todo en una sola linea."
   ]
  },
  {
   "cell_type": "code",
   "execution_count": null,
   "metadata": {
    "collapsed": true
   },
   "outputs": [],
   "source": [
    "nevando = clima2012[u'Clima'].str.contains('Snow').astype(float).resample('M', how=np.mean)"
   ]
  },
  {
   "cell_type": "markdown",
   "metadata": {},
   "source": [
    "Y ahora los ponemos junto a la temperatura para hacer una gráfica conjunta."
   ]
  },
  {
   "cell_type": "code",
   "execution_count": null,
   "metadata": {
    "collapsed": false
   },
   "outputs": [],
   "source": [
    "temperatura = clima2012[u'Temp (C)'].resample('M', how=np.mean)\n",
    "temperatura.name = \"Temperatura promedio mensual (C)\"\n",
    "nevando.name = \"Porcentaje de horas nevando al mes\"\n",
    "\n",
    "pd.concat([temperatura, nevando], axis=1).plot(kind='bar', subplots=True, figsize=(15, 10))"
   ]
  },
  {
   "cell_type": "markdown",
   "metadata": {},
   "source": [
    "### Ejercicio 3 (30 puntos): Verifica si la lluvia tiene alguna relación con la velocidad del viento, o con la humedad relativa "
   ]
  },
  {
   "cell_type": "code",
   "execution_count": null,
   "metadata": {
    "collapsed": true
   },
   "outputs": [],
   "source": [
    "# Escribe aqui tu código"
   ]
  },
  {
   "cell_type": "markdown",
   "metadata": {},
   "source": [
    "### Ejercicio 4 (30 puntos): Mezcla las bases de clima y la de las bicicletas, para revisar si hay alguna relación entre alguna variable climática y el uso de la bicicleta como medio de transporte"
   ]
  },
  {
   "cell_type": "code",
   "execution_count": null,
   "metadata": {
    "collapsed": true
   },
   "outputs": [],
   "source": [
    "# Escribe aqui tu código"
   ]
  }
 ],
 "metadata": {
  "kernelspec": {
   "display_name": "Python 2",
   "language": "python",
   "name": "python2"
  },
  "language_info": {
   "codemirror_mode": {
    "name": "ipython",
    "version": 2
   },
   "file_extension": ".py",
   "mimetype": "text/x-python",
   "name": "python",
   "nbconvert_exporter": "python",
   "pygments_lexer": "ipython2",
   "version": "2.7.11"
  }
 },
 "nbformat": 4,
 "nbformat_minor": 0
}
